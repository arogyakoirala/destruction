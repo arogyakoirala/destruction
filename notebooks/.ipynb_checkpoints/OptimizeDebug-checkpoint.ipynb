{
 "cells": [
  {
   "cell_type": "code",
   "execution_count": 10,
   "id": "a447bbac",
   "metadata": {},
   "outputs": [],
   "source": [
    "import os\n",
    "import sys\n",
    "import time\n",
    "import gc\n",
    "\n",
    "from tensorflow.keras.utils import Sequence\n",
    "from tensorflow.keras.metrics import AUC\n",
    "\n",
    "module_path = os.path.abspath(os.path.join('..'))\n",
    "if module_path not in sys.path:\n",
    "    sys.path.append(module_path+\"/scripts\")\n",
    "\n",
    "from destruction_utilities import *"
   ]
  },
  {
   "cell_type": "code",
   "execution_count": 28,
   "id": "78d02cc4",
   "metadata": {},
   "outputs": [],
   "source": [
    "CITY = 'aleppo'\n",
    "TILE_SIZE = (128,128)\n",
    "BATCH_SIZE = 32\n",
    "DATA_DIR = \"../../data\"\n",
    "\n",
    "auc = AUC(\n",
    "    num_thresholds=200,\n",
    "    curve='ROC',\n",
    "    name=\"auc\"\n",
    ")"
   ]
  },
  {
   "cell_type": "code",
   "execution_count": 36,
   "id": "a044efa1",
   "metadata": {},
   "outputs": [],
   "source": [
    "# CNNGenerator\n",
    "class CNNGenerator(Sequence):\n",
    "    def __init__(self, images, labels, batch_size=32):\n",
    "        self.images = images\n",
    "        self.labels = labels\n",
    "        self.batch_size = batch_size\n",
    "\n",
    "    def __len__(self):\n",
    "        return len(self.images)//self.batch_size\n",
    "    \n",
    "    def __getitem__(self, index):\n",
    "        return self.images\n",
    "        X = self.images[index*self.batch_size:(index+1)*self.batch_size]\n",
    "        y = self.labels[index*self.batch_size:(index+1)*self.batch_size]\n",
    "        \n",
    "#         return self.augment(X), y.flatten()\n",
    "    \n",
    "    def augment(self, X):\n",
    "        # Brightness\n",
    "        alpha = random.choice(np.linspace(0.85, 1.4))\n",
    "        X = X * alpha\n",
    "        \n",
    "        \n",
    "        \n",
    "        return X"
   ]
  },
  {
   "cell_type": "code",
   "execution_count": 37,
   "id": "3e8e3e97",
   "metadata": {},
   "outputs": [],
   "source": [
    "training_images = read_zarr(CITY, 'images_conv_train_balanced', path=DATA_DIR)\n",
    "training_labels = read_zarr(CITY, 'labels_conv_train_balanced', path=DATA_DIR)\n",
    "\n",
    "validation_images = read_zarr(CITY, 'images_conv_valid', path=DATA_DIR)\n",
    "validation_labels = read_zarr(CITY, 'labels_conv_valid', path=DATA_DIR)\n",
    "\n",
    "test_images = read_zarr(CITY, 'images_conv_test', path=DATA_DIR)\n",
    "test_labels = read_zarr(CITY, 'labels_conv_test', path=DATA_DIR)\n"
   ]
  },
  {
   "cell_type": "code",
   "execution_count": 35,
   "id": "de4a1ef3",
   "metadata": {},
   "outputs": [
    {
     "ename": "KeyError",
     "evalue": "slice(64, 96, None)",
     "output_type": "error",
     "traceback": [
      "\u001b[0;31m---------------------------------------------------------------------------\u001b[0m",
      "\u001b[0;31mKeyError\u001b[0m                                  Traceback (most recent call last)",
      "Input \u001b[0;32mIn [35]\u001b[0m, in \u001b[0;36m<cell line: 1>\u001b[0;34m()\u001b[0m\n\u001b[0;32m----> 1\u001b[0m \u001b[43mCNNGenerator\u001b[49m\u001b[43m(\u001b[49m\u001b[43mtraining_images\u001b[49m\u001b[43m,\u001b[49m\u001b[43m \u001b[49m\u001b[43mtraining_labels\u001b[49m\u001b[43m,\u001b[49m\u001b[43m \u001b[49m\u001b[43mbatch_size\u001b[49m\u001b[38;5;241;43m=\u001b[39;49m\u001b[38;5;241;43m32\u001b[39;49m\u001b[43m)\u001b[49m\u001b[38;5;241;43m.\u001b[39;49m\u001b[38;5;21;43m__getitem__\u001b[39;49m\u001b[43m(\u001b[49m\u001b[38;5;241;43m2\u001b[39;49m\u001b[43m)\u001b[49m\n",
      "Input \u001b[0;32mIn [33]\u001b[0m, in \u001b[0;36mCNNGenerator.__getitem__\u001b[0;34m(self, index)\u001b[0m\n\u001b[1;32m     11\u001b[0m     \u001b[38;5;28;01mdef\u001b[39;00m \u001b[38;5;21m__getitem__\u001b[39m(\u001b[38;5;28mself\u001b[39m, index):\n\u001b[1;32m     12\u001b[0m \u001b[38;5;66;03m#         return self.images\u001b[39;00m\n\u001b[0;32m---> 13\u001b[0m         X \u001b[38;5;241m=\u001b[39m \u001b[38;5;28;43mself\u001b[39;49m\u001b[38;5;241;43m.\u001b[39;49m\u001b[43mimages\u001b[49m\u001b[43m[\u001b[49m\u001b[43mindex\u001b[49m\u001b[38;5;241;43m*\u001b[39;49m\u001b[38;5;28;43mself\u001b[39;49m\u001b[38;5;241;43m.\u001b[39;49m\u001b[43mbatch_size\u001b[49m\u001b[43m:\u001b[49m\u001b[43m(\u001b[49m\u001b[43mindex\u001b[49m\u001b[38;5;241;43m+\u001b[39;49m\u001b[38;5;241;43m1\u001b[39;49m\u001b[43m)\u001b[49m\u001b[38;5;241;43m*\u001b[39;49m\u001b[38;5;28;43mself\u001b[39;49m\u001b[38;5;241;43m.\u001b[39;49m\u001b[43mbatch_size\u001b[49m\u001b[43m]\u001b[49m\n\u001b[1;32m     14\u001b[0m         y \u001b[38;5;241m=\u001b[39m \u001b[38;5;28mself\u001b[39m\u001b[38;5;241m.\u001b[39mlabels[index\u001b[38;5;241m*\u001b[39m\u001b[38;5;28mself\u001b[39m\u001b[38;5;241m.\u001b[39mbatch_size:(index\u001b[38;5;241m+\u001b[39m\u001b[38;5;241m1\u001b[39m)\u001b[38;5;241m*\u001b[39m\u001b[38;5;28mself\u001b[39m\u001b[38;5;241m.\u001b[39mbatch_size]\n",
      "File \u001b[0;32m~/miniforge3/envs/destruction/lib/python3.8/site-packages/zarr/hierarchy.py:361\u001b[0m, in \u001b[0;36mGroup.__getitem__\u001b[0;34m(self, item)\u001b[0m\n\u001b[1;32m    357\u001b[0m     \u001b[38;5;28;01mreturn\u001b[39;00m Group(\u001b[38;5;28mself\u001b[39m\u001b[38;5;241m.\u001b[39m_store, read_only\u001b[38;5;241m=\u001b[39m\u001b[38;5;28mself\u001b[39m\u001b[38;5;241m.\u001b[39m_read_only, path\u001b[38;5;241m=\u001b[39mpath,\n\u001b[1;32m    358\u001b[0m                  chunk_store\u001b[38;5;241m=\u001b[39m\u001b[38;5;28mself\u001b[39m\u001b[38;5;241m.\u001b[39m_chunk_store, cache_attrs\u001b[38;5;241m=\u001b[39m\u001b[38;5;28mself\u001b[39m\u001b[38;5;241m.\u001b[39mattrs\u001b[38;5;241m.\u001b[39mcache,\n\u001b[1;32m    359\u001b[0m                  synchronizer\u001b[38;5;241m=\u001b[39m\u001b[38;5;28mself\u001b[39m\u001b[38;5;241m.\u001b[39m_synchronizer)\n\u001b[1;32m    360\u001b[0m \u001b[38;5;28;01melse\u001b[39;00m:\n\u001b[0;32m--> 361\u001b[0m     \u001b[38;5;28;01mraise\u001b[39;00m \u001b[38;5;167;01mKeyError\u001b[39;00m(item)\n",
      "\u001b[0;31mKeyError\u001b[0m: slice(64, 96, None)"
     ]
    }
   ],
   "source": [
    "CNNGenerator(training_images, training_labels, batch_size=32).__getitem__(2)"
   ]
  },
  {
   "cell_type": "code",
   "execution_count": null,
   "id": "eac5fda1",
   "metadata": {},
   "outputs": [],
   "source": []
  }
 ],
 "metadata": {
  "kernelspec": {
   "display_name": "Python 3 (ipykernel)",
   "language": "python",
   "name": "python3"
  },
  "language_info": {
   "codemirror_mode": {
    "name": "ipython",
    "version": 3
   },
   "file_extension": ".py",
   "mimetype": "text/x-python",
   "name": "python",
   "nbconvert_exporter": "python",
   "pygments_lexer": "ipython3",
   "version": "3.8.13"
  }
 },
 "nbformat": 4,
 "nbformat_minor": 5
}
