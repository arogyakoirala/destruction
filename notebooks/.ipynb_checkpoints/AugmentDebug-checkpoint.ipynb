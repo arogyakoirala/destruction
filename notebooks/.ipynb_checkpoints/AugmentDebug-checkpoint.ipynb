{
 "cells": [
  {
   "cell_type": "code",
   "execution_count": 38,
   "id": "da358366",
   "metadata": {},
   "outputs": [],
   "source": [
    "import os\n",
    "import sys\n",
    "from matplotlib import pyplot\n",
    "import time\n",
    "import geopandas\n",
    "import pandas as pd\n",
    "\n",
    "# Enable importing scripts from ../scripts folder\n",
    "module_path = os.path.abspath(os.path.join('..'))\n",
    "if module_path not in sys.path:\n",
    "    sys.path.append(module_path+\"/scripts\")\n",
    "    \n",
    "from destruction_utilities import *"
   ]
  },
  {
   "cell_type": "code",
   "execution_count": 39,
   "id": "d10b29b4",
   "metadata": {},
   "outputs": [],
   "source": [
    "DEBUG = False\n",
    "CITY = 'aleppo'\n",
    "TILE_SIZE = [128,128]\n",
    "REFRESH_SAMPLE = True\n",
    "ZERO_DAMAGE_BEFORE_YEAR = 2012\n",
    "PRE_IMAGE_INDEX = [0]\n",
    "\n",
    "WINDOW=True\n",
    "WINDOW_SIZE=(20,20)\n",
    "\n",
    "DATA_DIR = \"../../data\""
   ]
  },
  {
   "cell_type": "code",
   "execution_count": 40,
   "id": "84d932a1",
   "metadata": {},
   "outputs": [],
   "source": [
    "image      = search_data(pattern(city=CITY, type='image'), directory=DATA_DIR)[0]\n",
    "settlement = search_data(f'{CITY}_settlement.*gpkg$', directory=DATA_DIR)\n",
    "noanalysis = search_data(f'{CITY}_noanalysis.*gpkg$', directory=DATA_DIR)"
   ]
  },
  {
   "cell_type": "code",
   "execution_count": 41,
   "id": "a05552eb",
   "metadata": {},
   "outputs": [],
   "source": [
    "profile    = tiled_profile(image, tile_size=(*TILE_SIZE, 1))\n",
    "settlement = rasterise(settlement, profile, dtype='bool')\n",
    "noanalysis = rasterise(noanalysis, profile, dtype='bool')\n",
    "analysis   = np.logical_and(settlement, np.invert(noanalysis))"
   ]
  },
  {
   "cell_type": "code",
   "execution_count": 42,
   "id": "be7379a9",
   "metadata": {},
   "outputs": [],
   "source": [
    "# Debug: display settlement, analysis, and no analysis zones\n",
    "if DEBUG:\n",
    "    image = read_raster(image)\n",
    "    print(\"Original image size:\", image.shape)\n",
    "    display_multiple([settlement, noanalysis, analysis], labels=[\"settlements\", \"noanalysis\", \"analysis\"])"
   ]
  },
  {
   "cell_type": "code",
   "execution_count": 43,
   "id": "01a36355",
   "metadata": {},
   "outputs": [],
   "source": [
    "del image, settlement, noanalysis"
   ]
  },
  {
   "cell_type": "code",
   "execution_count": 44,
   "id": "55b5faea",
   "metadata": {},
   "outputs": [],
   "source": [
    "if REFRESH_SAMPLE:\n",
    "    # Splits samples\n",
    "    np.random.seed(1)\n",
    "    index   = dict(training=0.70, validation=0.15, test=0.15)\n",
    "    index   = np.random.choice(np.arange(len(index)) + 1, np.sum(analysis), p=list(index.values()))\n",
    "    samples = analysis.astype(int)\n",
    "    np.place(samples, analysis, index)\n",
    "    write_raster(samples, profile, f'{DATA_DIR}/{CITY}/others/{CITY}_samples.tif', nodata=-1, dtype='int8')\n",
    "    del index, samples, analysis"
   ]
  },
  {
   "cell_type": "code",
   "execution_count": 45,
   "id": "3aefaceb",
   "metadata": {},
   "outputs": [],
   "source": [
    "# DEBUG Visualize Sample\n",
    "if DEBUG:\n",
    "    samples = read_raster(f'{DATA_DIR}/{CITY}/others/{CITY}_samples.tif')\n",
    "    display(samples)"
   ]
  },
  {
   "cell_type": "code",
   "execution_count": 46,
   "id": "346385da",
   "metadata": {},
   "outputs": [],
   "source": [
    "# Calculate labels for each tile..\n",
    "# Reads damage reports\n",
    "damage = search_data(f'{CITY}_damage.*gpkg$', directory=DATA_DIR)\n",
    "damage = geopandas.read_file(damage)\n",
    "\n",
    "last_annotation_date = sorted(damage.columns)[-2]"
   ]
  },
  {
   "cell_type": "code",
   "execution_count": 47,
   "id": "857fa8b5",
   "metadata": {},
   "outputs": [],
   "source": [
    "# DEBUG: Plot damage annotations and print last annotation date\n",
    "if DEBUG:\n",
    "    damage.plot()\n",
    "    print(last_annotation_date)\n",
    "    damage.sample(3)"
   ]
  },
  {
   "cell_type": "code",
   "execution_count": 48,
   "id": "ba70da23",
   "metadata": {},
   "outputs": [],
   "source": [
    "# Extract report dates\n",
    "dates = search_data(pattern(city=CITY, type='image'), directory=DATA_DIR)\n",
    "dates = extract(dates, '\\d{4}_\\d{2}_\\d{2}')\n",
    "dates= list(map(lambda x: x.replace(\"_\", \"-\"), dates))\n"
   ]
  },
  {
   "cell_type": "code",
   "execution_count": 49,
   "id": "90b684ed",
   "metadata": {},
   "outputs": [],
   "source": [
    "# DEBUG: Print out dates\n",
    "if DEBUG:\n",
    "    dates"
   ]
  },
  {
   "cell_type": "code",
   "execution_count": 50,
   "id": "d5ada9ed",
   "metadata": {},
   "outputs": [],
   "source": [
    "known_dates = sorted(damage.drop('geometry', axis =1).columns)\n",
    "damage[list(set(dates) - set(damage.columns))] = np.nan\n",
    "damage = damage.reindex(sorted(damage.columns), axis=1)"
   ]
  },
  {
   "cell_type": "code",
   "execution_count": 51,
   "id": "d66ab362",
   "metadata": {},
   "outputs": [],
   "source": [
    "# DEBUG\n",
    "if DEBUG:\n",
    "    damage.sample(3)"
   ]
  },
  {
   "cell_type": "code",
   "execution_count": 52,
   "id": "6dbf43e9",
   "metadata": {},
   "outputs": [],
   "source": [
    "pre_cols = [col for col in sorted(damage.drop('geometry', axis=1)).columns if int(col.split(\"-\")[0]) < ZERO_DAMAGE_BEFORE_YEAR]\n",
    "\n",
    "for i, col in sorted(damage.drop('geometry', axis=1)).columns:\n",
    "    if i in PRE_IMAGE_INDEX:\n",
    "        pre_cols.append(i)"
   ]
  },
  {
   "cell_type": "code",
   "execution_count": 53,
   "id": "bb590bf1",
   "metadata": {},
   "outputs": [],
   "source": [
    "# DEBUG\n",
    "if DEBUG:\n",
    "    pre_cols"
   ]
  },
  {
   "cell_type": "code",
   "execution_count": 17,
   "id": "d45b51d5",
   "metadata": {},
   "outputs": [],
   "source": [
    "damage[pre_cols] = 0.0"
   ]
  },
  {
   "cell_type": "code",
   "execution_count": 18,
   "id": "af670586",
   "metadata": {},
   "outputs": [],
   "source": [
    "# DEBUG\n",
    "if DEBUG:\n",
    "    damage.sample(3)"
   ]
  },
  {
   "cell_type": "code",
   "execution_count": 19,
   "id": "f596f7ce",
   "metadata": {},
   "outputs": [],
   "source": [
    "# BUG FOUND\n",
    "## Replace:\n",
    "post_cols = [col for col in damage.drop('geometry', axis=1).columns if time.strptime(col, \"%Y-%m-%d\") > time.strptime(last_annotation_date, \"%Y-%m-%d\")]\n",
    "## With:\n",
    "post_cols = sorted([col for col in damage.drop('geometry', axis=1).columns if int(col.split(\"-\")[0]) > int(ZERO_DAMAGE_BEFORE_YEAR)])"
   ]
  },
  {
   "cell_type": "code",
   "execution_count": 20,
   "id": "2fc04ebb",
   "metadata": {},
   "outputs": [],
   "source": [
    "# DEBUG\n",
    "if DEBUG:\n",
    "    post_cols"
   ]
  },
  {
   "cell_type": "code",
   "execution_count": 21,
   "id": "7e34e799",
   "metadata": {},
   "outputs": [
    {
     "name": "stdout",
     "output_type": "stream",
     "text": [
      "['2013-09-23', '2014-05-23', '2015-04-26', '2015-05-01', '2016-09-18']\n",
      "2013-05-26\n",
      "2013-09-23\n",
      "\tHit known date {'2013-09-23'}\n",
      "\tNext known date {'2014-05-23'}\n",
      "\tInbetweeners []\n",
      "2014-05-23\n",
      "\tHit known date {'2014-05-23'}\n",
      "\tNext known date {'2015-04-26'}\n",
      "\tInbetweeners ['2014-07-14']\n",
      "\tShould I uncertain 2014-07-14 (5198) using 2014-05-23 and 2015-04-26\n",
      "2014-07-14\n",
      "2015-04-26\n",
      "\tHit known date {'2015-04-26'}\n",
      "\tNext known date {'2015-05-01'}\n",
      "\tInbetweeners []\n",
      "2015-05-01\n",
      "\tHit known date {'2015-05-01'}\n",
      "\tNext known date {'2016-09-18'}\n",
      "\tInbetweeners ['2016-03-29']\n",
      "\tShould I uncertain 2016-03-29 (35737) using 2015-05-01 and 2016-09-18\n",
      "2016-03-29\n",
      "2016-09-18\n"
     ]
    }
   ],
   "source": [
    "print(known_dates)\n",
    "last_known_date = known_dates[0]\n",
    "for col in post_cols:\n",
    "    print(col)\n",
    "    if col in known_dates and time.strptime(col, \"%Y-%m-%d\") >= time.strptime(last_known_date, \"%Y-%m-%d\"):\n",
    "        last_known_date = col\n",
    "        if(known_dates.index(col) < len(known_dates)-1):\n",
    "            next_known_date = known_dates[known_dates.index(col)+1]\n",
    "            print(\"\\tHit known date\", {col})\n",
    "            print(\"\\tNext known date\", {next_known_date})\n",
    "            dates_between = post_cols[post_cols.index(last_known_date)+1:post_cols.index(next_known_date)]\n",
    "            print(\"\\tInbetweeners\", dates_between)\n",
    "            zeros = list(*np.where(damage[next_known_date] == 0.0))\n",
    "            not_equal = list(*np.where(damage[last_known_date] != damage[next_known_date]))\n",
    "#             uncertains = list(set(zeros).intersection(set(not_equal)))\n",
    "            for date in dates_between:\n",
    "                print(f\"\\tShould I uncertain {date} ({len(not_equal)}) using {last_known_date} and {next_known_date}\")\n",
    "                damage.loc[not_equal, date] = -1\n",
    "            \n",
    "            "
   ]
  },
  {
   "cell_type": "code",
   "execution_count": 22,
   "id": "e69a228a",
   "metadata": {},
   "outputs": [],
   "source": [
    "if DEBUG:\n",
    "    damage"
   ]
  },
  {
   "cell_type": "code",
   "execution_count": 23,
   "id": "dab2b849",
   "metadata": {},
   "outputs": [],
   "source": [
    "if DEBUG:\n",
    "    uncertains = list(*np.where(np.logical_and(damage['2014-05-23'] == 2, damage['2015-04-26'] == 0)))\n",
    "    damage.iloc[uncertains, :]"
   ]
  },
  {
   "cell_type": "code",
   "execution_count": 24,
   "id": "ca31b221",
   "metadata": {},
   "outputs": [],
   "source": [
    "if DEBUG:\n",
    "    for col in post_cols:\n",
    "        zeros = list(*np.where(damage[col] == 0.0))\n",
    "        nulls = list(*np.where(damage[col].isnull()))\n",
    "        others = list(*np.where(np.logical_and(damage[col].notnull(), damage[col] != 0.0)))\n",
    "        print(f'{col}')\n",
    "        print(f\"{col}, Zeros: \", len(zeros))\n",
    "        print(f\"{col}, Nulls: \", len(nulls))\n",
    "        print(f\"{col}, Others: \", len(others))\n",
    "        cols_before_date = [c for c in post_cols if time.strptime(c, \"%Y-%m-%d\")  < time.strptime(col, \"%Y-%m-%d\") ]\n",
    "        print(f\"Backfill Candidates: {cols_before_date}\")\n",
    "    #     for date in cols_before_date:\n",
    "    #         print(damage[date].isnull().sum())\n",
    "    #         damage.loc[nulls, date] = 99\n",
    "    print(known_dates)\n",
    "\n",
    "\n"
   ]
  },
  {
   "cell_type": "code",
   "execution_count": 25,
   "id": "33e9c940",
   "metadata": {},
   "outputs": [
    {
     "name": "stdout",
     "output_type": "stream",
     "text": [
      "Backfilling 2013-05-26 using 2013-09-23\n",
      "Backfilling 2014-07-14 using 2015-04-26\n",
      "Backfilling 2016-03-29 using 2016-09-18\n"
     ]
    }
   ],
   "source": [
    "filled = []\n",
    "last_known_date = None\n",
    "for j, col in enumerate(post_cols):\n",
    "    zeros = list(*np.where(damage[col] == 0.0))\n",
    "    cols_before_date = [c for c in post_cols if time.strptime(c, \"%Y-%m-%d\")  < time.strptime(col, \"%Y-%m-%d\") ]\n",
    "    for i, date in enumerate(cols_before_date):       \n",
    "        if date not in filled and date not in known_dates:\n",
    "            print(f\"Backfilling {date} using {col}\")\n",
    "            zeros = list(*np.where(damage[col] == 0.0))\n",
    "            uncertains = list(*np.where(damage[date] != -1))\n",
    "            n_uncertains = list(set(zeros).intersection(set(uncertains)))\n",
    "            damage.loc[n_uncertains, date] = 0.0\n",
    "            filled.append(date)    "
   ]
  },
  {
   "cell_type": "code",
   "execution_count": 26,
   "id": "3db99065",
   "metadata": {},
   "outputs": [],
   "source": [
    "# DEBUG\n",
    "if DEBUG:\n",
    "    for col in post_cols:\n",
    "        zeros = list(*np.where(damage[col] == 0.0))\n",
    "        nulls = list(*np.where(damage[col].isnull()))\n",
    "        others = list(*np.where(np.logical_and(damage[col].notnull(), damage[col] != 0.0)))\n",
    "        print(f'{col}')\n",
    "        print(f\"{col}, Zeros: \", len(zeros))\n",
    "        print(f\"{col}, Nulls: \", len(nulls))\n",
    "        print(f\"{col}, Others: \", len(others), \"\\n\\n\")\n"
   ]
  },
  {
   "cell_type": "code",
   "execution_count": 27,
   "id": "4a9be714",
   "metadata": {},
   "outputs": [],
   "source": [
    "if DEBUG:\n",
    "    geometry = damage.geometry\n",
    "    damage_ = damage.drop('geometry', axis=1)\n",
    "    damage_ = damage_.T\n",
    "    damage_.fillna(method = 'ffill') != damage_.fillna(method = 'bfill')"
   ]
  },
  {
   "cell_type": "code",
   "execution_count": 28,
   "id": "46dac4c7",
   "metadata": {},
   "outputs": [],
   "source": [
    "# Label the uncertain class\n",
    "geometry = damage.geometry\n",
    "damage_ = damage.drop('geometry', axis=1)\n",
    "damage_ = damage_.T\n",
    "for col in damage_.columns:\n",
    "    uncertains = np.where(damage_[col].fillna(method='ffill') != damage_[col].fillna(method='bfill'))\n",
    "    damage_.iloc[uncertains, col] = -1\n",
    "damage = damage_.T\n",
    "damage['geometry'] = geometry\n",
    "damage = geopandas.GeoDataFrame(damage)"
   ]
  },
  {
   "cell_type": "code",
   "execution_count": 29,
   "id": "a17a189a",
   "metadata": {},
   "outputs": [],
   "source": [
    "if DEBUG:\n",
    "    geometry = damage.geometry\n",
    "    damage_ = damage.drop('geometry', axis=1)\n",
    "    damage_ = damage_.T\n",
    "    damage_ = damage_.fillna(method='ffill')\n",
    "    damage_"
   ]
  },
  {
   "cell_type": "code",
   "execution_count": 30,
   "id": "8247437d",
   "metadata": {},
   "outputs": [],
   "source": [
    "# Forward fill the rest\n",
    "geometry = damage.geometry\n",
    "damage_ = damage.drop('geometry', axis=1)\n",
    "damage_ = damage_.T\n",
    "damage_ = damage_.fillna(method='ffill')\n",
    "damage = damage_.T\n",
    "damage['geometry'] = geometry\n",
    "damage = geopandas.GeoDataFrame(damage)"
   ]
  },
  {
   "cell_type": "code",
   "execution_count": 31,
   "id": "7b352cdc",
   "metadata": {},
   "outputs": [],
   "source": [
    "if DEBUG:\n",
    "    for col in damage.columns:\n",
    "        print(f\"{col}:\")\n",
    "        print(f\"NAs: {damage[col].isnull().sum()}\")\n",
    "        print(f\"Value counts\")\n",
    "        if col != 'geometry':\n",
    "            print(damage[col].value_counts(), \"\\n\\n\")"
   ]
  },
  {
   "cell_type": "code",
   "execution_count": null,
   "id": "e0fded4f",
   "metadata": {},
   "outputs": [],
   "source": []
  },
  {
   "cell_type": "code",
   "execution_count": 32,
   "id": "09357097",
   "metadata": {},
   "outputs": [],
   "source": [
    "if DEBUG:\n",
    "    def get_counts(dam, name=\"combos.csv\"):\n",
    "        geometry = dam.geometry\n",
    "        damage_ = dam.drop('geometry', axis=1)\n",
    "    #     print(known_dates)\n",
    "        counts = damage_.reset_index().groupby(list(damage_.columns)).count().reset_index().sort_values('index', ascending=False)\n",
    "        counts.to_csv(name)\n",
    "        return counts\n",
    "\n",
    "    get_counts(damage)"
   ]
  },
  {
   "cell_type": "code",
   "execution_count": 33,
   "id": "6913f9fb",
   "metadata": {},
   "outputs": [
    {
     "name": "stdout",
     "output_type": "stream",
     "text": [
      "------ 2011-01-01\n",
      "------ 2013-05-26\n",
      "------ 2013-09-23\n",
      "------ 2014-05-23\n",
      "------ 2014-07-14\n",
      "------ 2015-04-26\n",
      "------ 2015-05-01\n",
      "------ 2016-03-29\n",
      "------ 2016-09-18\n"
     ]
    }
   ],
   "source": [
    "# Writes damage labels\n",
    "for date in damage.drop('geometry', axis=1).columns:\n",
    "    print(f'------ {date}')\n",
    "    subset = damage[[date, 'geometry']].sort_values(by=date) # Sorting takes the max per pixel\n",
    "    subset = rasterise(subset, profile, date)\n",
    "    write_raster(subset, profile, f'{DATA_DIR}/{CITY}/labels/label_{date}.tif', nodata=-1, dtype='int8')\n",
    "del date, subset"
   ]
  },
  {
   "cell_type": "code",
   "execution_count": 34,
   "id": "1e52c6f1",
   "metadata": {},
   "outputs": [],
   "source": [
    "if DEBUG:\n",
    "    subsets = []\n",
    "    for date in damage.drop('geometry', axis=1).columns:\n",
    "        print(f'------ {date}')\n",
    "        subset = damage[[date, 'geometry']].sort_values(by=date) # Sorting takes the max per pixel\n",
    "#         subset = rasterise(subset, profile, date)\n",
    "        subsets.append(subset)\n",
    "\n",
    "#     display_multiple([*subsets], cmap=\"Reds\")"
   ]
  },
  {
   "cell_type": "code",
   "execution_count": 35,
   "id": "8cd62bd8",
   "metadata": {},
   "outputs": [],
   "source": [
    "samples = read_raster(f'{DATA_DIR}/{CITY}/others/{CITY}_samples.tif')\n",
    "images  = search_data(pattern(city=CITY, type='image'), directory=DATA_DIR)\n",
    "labels  = search_data(pattern(city=CITY, type='label'), directory=DATA_DIR)"
   ]
  },
  {
   "cell_type": "code",
   "execution_count": 36,
   "id": "0cf47e7b",
   "metadata": {},
   "outputs": [
    {
     "data": {
      "text/plain": [
       "array([[[123., 105.,  90.],\n",
       "        [123., 101.,  82.],\n",
       "        [115.,  97.,  82.],\n",
       "        ...,\n",
       "        [ 82.,  69.,  74.],\n",
       "        [ 99.,  85.,  99.],\n",
       "        [132., 117., 123.]],\n",
       "\n",
       "       [[115.,  97.,  82.],\n",
       "        [107.,  89.,  74.],\n",
       "        [107.,  85.,  66.],\n",
       "        ...,\n",
       "        [ 74.,  57.,  66.],\n",
       "        [ 99.,  81.,  90.],\n",
       "        [123., 109., 115.]],\n",
       "\n",
       "       [[115.,  93.,  82.],\n",
       "        [115.,  93.,  74.],\n",
       "        [107.,  89.,  74.],\n",
       "        ...,\n",
       "        [ 74.,  65.,  74.],\n",
       "        [ 99.,  85.,  90.],\n",
       "        [115., 101., 107.]],\n",
       "\n",
       "       ...,\n",
       "\n",
       "       [[ 33.,  28.,  16.],\n",
       "        [ 58.,  49.,  41.],\n",
       "        [ 74.,  65.,  58.],\n",
       "        ...,\n",
       "        [115.,  73.,  66.],\n",
       "        [115.,  73.,  66.],\n",
       "        [115.,  73.,  66.]],\n",
       "\n",
       "       [[ 49.,  40.,  33.],\n",
       "        [ 58.,  53.,  41.],\n",
       "        [ 74.,  65.,  49.],\n",
       "        ...,\n",
       "        [115.,  73.,  66.],\n",
       "        [115.,  73.,  66.],\n",
       "        [115.,  77.,  74.]],\n",
       "\n",
       "       [[ 66.,  61.,  49.],\n",
       "        [ 66.,  57.,  49.],\n",
       "        [ 66.,  53.,  41.],\n",
       "        ...,\n",
       "        [115.,  73.,  66.],\n",
       "        [115.,  73.,  66.],\n",
       "        [115.,  73.,  66.]]])"
      ]
     },
     "execution_count": 36,
     "metadata": {},
     "output_type": "execute_result"
    }
   ],
   "source": [
    "read_raster(images[2])"
   ]
  },
  {
   "cell_type": "code",
   "execution_count": 37,
   "id": "5ffef4c2",
   "metadata": {},
   "outputs": [
    {
     "ename": "SyntaxError",
     "evalue": "invalid syntax (2684372231.py, line 1)",
     "output_type": "error",
     "traceback": [
      "\u001b[0;36m  Input \u001b[0;32mIn [37]\u001b[0;36m\u001b[0m\n\u001b[0;31m    center_window(images[2], size=)\u001b[0m\n\u001b[0m                                  ^\u001b[0m\n\u001b[0;31mSyntaxError\u001b[0m\u001b[0;31m:\u001b[0m invalid syntax\n"
     ]
    }
   ],
   "source": [
    "center_window(images[2], size=WIN)"
   ]
  },
  {
   "cell_type": "code",
   "execution_count": null,
   "id": "e419cb6e",
   "metadata": {},
   "outputs": [],
   "source": []
  },
  {
   "cell_type": "code",
   "execution_count": null,
   "id": "55fd4815",
   "metadata": {},
   "outputs": [],
   "source": []
  }
 ],
 "metadata": {
  "kernelspec": {
   "display_name": "Python 3 (ipykernel)",
   "language": "python",
   "name": "python3"
  },
  "language_info": {
   "codemirror_mode": {
    "name": "ipython",
    "version": 3
   },
   "file_extension": ".py",
   "mimetype": "text/x-python",
   "name": "python",
   "nbconvert_exporter": "python",
   "pygments_lexer": "ipython3",
   "version": "3.8.13"
  },
  "vscode": {
   "interpreter": {
    "hash": "3037eb3434137edb4017b589c0647cacdf10a706a800a063d91f09b3c1ca767a"
   }
  }
 },
 "nbformat": 4,
 "nbformat_minor": 5
}
