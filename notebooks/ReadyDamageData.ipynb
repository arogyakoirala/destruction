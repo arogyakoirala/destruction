{
 "cells": [
  {
   "cell_type": "code",
   "execution_count": 34,
   "id": "9fbf5ba4",
   "metadata": {},
   "outputs": [],
   "source": [
    "import geopandas as gpd\n",
    "import numpy as np"
   ]
  },
  {
   "cell_type": "code",
   "execution_count": 55,
   "id": "72d1a63c",
   "metadata": {},
   "outputs": [],
   "source": [
    "shp = gpd.read_file(\"../../annotations/new/Raqqa/Damage_Sites_Raqqa_CDA.shp\")"
   ]
  },
  {
   "cell_type": "code",
   "execution_count": 56,
   "id": "1dc94ace",
   "metadata": {},
   "outputs": [
    {
     "data": {
      "text/plain": [
       "(                             SiteID SensDt SensId Confidence DaSitCl  \\\n",
       " 13155  Building (General / Default)   None   None       None    None   \n",
       " 13156  Building (General / Default)   None   None       None    None   \n",
       " 13157  Building (General / Default)   None   None       None    None   \n",
       " 13158  Building (General / Default)   None   None       None    None   \n",
       " 13159  Building (General / Default)   None   None       None    None   \n",
       " \n",
       "       SensorDate SensID2 ConfID2 DaSitCl2 Damst2  ...    ConfId5  \\\n",
       " 13155       None    None    None     None   None  ...  Very High   \n",
       " 13156       None    None    None     None   None  ...     Medium   \n",
       " 13157       None    None    None     None   None  ...     Medium   \n",
       " 13158       None    None    None     None   None  ...     Medium   \n",
       " 13159       None    None    None     None   None  ...  Very High   \n",
       " \n",
       "               DaSitCl5        Damst5             GrDaCl  \\\n",
       " 13155        Destroyed  New - damage  Damaged Buildings   \n",
       " 13156  Moderate Damage  New - damage  Damaged Buildings   \n",
       " 13157  Moderate Damage  New - damage  Damaged Buildings   \n",
       " 13158  Moderate Damage  New - damage  Damaged Buildings   \n",
       " 13159        Destroyed  New - damage  Damaged Buildings   \n",
       " \n",
       "                        FieldVl        Notes   Name    Neigh           Code  \\\n",
       " 13155  Not yet field validated  Gas station  Raqqa  Unknown  CE20130604SYR   \n",
       " 13156  Not yet field validated  Gas station  Raqqa  Unknown  CE20130604SYR   \n",
       " 13157  Not yet field validated  Gas station  Raqqa  Unknown  CE20130604SYR   \n",
       " 13158  Not yet field validated  Gas station  Raqqa  Unknown  CE20130604SYR   \n",
       " 13159  Not yet field validated  Gas station  Raqqa  Unknown  CE20130604SYR   \n",
       " \n",
       "                         geometry  \n",
       " 13155  POINT (38.97976 35.96773)  \n",
       " 13156  POINT (38.97994 35.96763)  \n",
       " 13157  POINT (38.97990 35.96752)  \n",
       " 13158  POINT (38.97994 35.96742)  \n",
       " 13159  POINT (38.97973 35.96723)  \n",
       " \n",
       " [5 rows x 32 columns],\n",
       " Index(['SiteID', 'SensDt', 'SensId', 'Confidence', 'DaSitCl', 'SensorDate',\n",
       "        'SensID2', 'ConfID2', 'DaSitCl2', 'Damst2', 'SensDt3', 'SensID3',\n",
       "        'ConfId3', 'DaSitCl3', 'Damst3', 'SensDt4', 'SensID4', 'ConfId4',\n",
       "        'DaSitCl4', 'Damst4', 'SensDt5', 'SensId5', 'ConfId5', 'DaSitCl5',\n",
       "        'Damst5', 'GrDaCl', 'FieldVl', 'Notes', 'Name', 'Neigh', 'Code',\n",
       "        'geometry'],\n",
       "       dtype='object'))"
      ]
     },
     "execution_count": 56,
     "metadata": {},
     "output_type": "execute_result"
    }
   ],
   "source": [
    "shp.tail(), shp.columns"
   ]
  },
  {
   "cell_type": "code",
   "execution_count": 57,
   "id": "5d471ff0",
   "metadata": {},
   "outputs": [],
   "source": [
    "tcols = [c for c in shp.columns if 'SensDt' in c]\n",
    "dcols = [c for c in shp.columns if 'DaSitCl' in c and c !=\"DaSitCl\"]"
   ]
  },
  {
   "cell_type": "code",
   "execution_count": 58,
   "id": "66f7dcd7",
   "metadata": {},
   "outputs": [
    {
     "data": {
      "text/plain": [
       "(['SensDt', 'SensDt3', 'SensDt4', 'SensDt5'],\n",
       " ['DaSitCl2', 'DaSitCl3', 'DaSitCl4', 'DaSitCl5'])"
      ]
     },
     "execution_count": 58,
     "metadata": {},
     "output_type": "execute_result"
    }
   ],
   "source": [
    "tcols, dcols"
   ]
  },
  {
   "cell_type": "code",
   "execution_count": 59,
   "id": "15ed470d",
   "metadata": {},
   "outputs": [
    {
     "name": "stderr",
     "output_type": "stream",
     "text": [
      "/var/folders/z1/7pydgng971nfzdf2rwg_p__r0000gn/T/ipykernel_2314/21167257.py:5: FutureWarning: The series.append method is deprecated and will be removed from pandas in a future version. Use pandas.concat instead.\n",
      "  allDates = allDates.append(shp[c])\n",
      "/var/folders/z1/7pydgng971nfzdf2rwg_p__r0000gn/T/ipykernel_2314/21167257.py:5: FutureWarning: The series.append method is deprecated and will be removed from pandas in a future version. Use pandas.concat instead.\n",
      "  allDates = allDates.append(shp[c])\n"
     ]
    },
    {
     "data": {
      "text/plain": [
       "array(['2013-10-22', '2015-05-29', '2017-02-03', '2017-10-21'],\n",
       "      dtype=object)"
      ]
     },
     "execution_count": 59,
     "metadata": {},
     "output_type": "execute_result"
    }
   ],
   "source": [
    "for i, c in enumerate(tcols):\n",
    "    if i==0:\n",
    "        allDates = shp[c]\n",
    "    else:\n",
    "        allDates = allDates.append(shp[c])\n",
    "\n",
    "allDates        \n",
    "sensor_date_values = allDates.unique()\n",
    "sensor_date_values = sensor_date_values[sensor_date_values != np.array(None)]\n",
    "sensor_date_values"
   ]
  },
  {
   "cell_type": "code",
   "execution_count": 60,
   "id": "972f2d63",
   "metadata": {},
   "outputs": [],
   "source": [
    "new_df = []\n",
    "for i, row in shp.iterrows():\n",
    "\n",
    "    row_entry = {}\n",
    "    row_entry['geometry'] = row['geometry']\n",
    "    \n",
    "    for j, sensor_date_col in enumerate(tcols):\n",
    "        if(row[sensor_date_col] != None):\n",
    "            row_entry[row[sensor_date_col]] = row[dcols[j]]\n",
    "    \n",
    "    new_df.append(row_entry)"
   ]
  },
  {
   "cell_type": "code",
   "execution_count": 61,
   "id": "5e99e278",
   "metadata": {},
   "outputs": [],
   "source": [
    "df = gpd.GeoDataFrame(new_df)\n",
    "df = df.replace({np.nan: np.nan, \"Destroyed\": 3, \"Severe Damage\": 2, \"Moderate Damage\": 1, \"No Visible Damage\": 0, \"Impact Crater (Damage to Road)\": np.nan, 'Impact Crater (Damage to Field)': np.nan, \"6\": np.nan})\n",
    "df = df.set_crs(\"epsg:4326\")"
   ]
  },
  {
   "cell_type": "code",
   "execution_count": 62,
   "id": "8225b9f1",
   "metadata": {},
   "outputs": [
    {
     "data": {
      "text/plain": [
       "geometry          0\n",
       "2013-10-22    12820\n",
       "2015-05-29    11592\n",
       "2017-02-03    11342\n",
       "2017-10-21      262\n",
       "dtype: int64"
      ]
     },
     "execution_count": 62,
     "metadata": {},
     "output_type": "execute_result"
    }
   ],
   "source": [
    "df.isna().sum()"
   ]
  },
  {
   "cell_type": "code",
   "execution_count": 63,
   "id": "d9c9be60",
   "metadata": {},
   "outputs": [],
   "source": [
    "df.to_file(\"raqqa_damage.gpkg\", driver=\"GPKG\")"
   ]
  },
  {
   "cell_type": "code",
   "execution_count": null,
   "id": "f1102ffc",
   "metadata": {},
   "outputs": [],
   "source": []
  }
 ],
 "metadata": {
  "kernelspec": {
   "display_name": "Python 3 (ipykernel)",
   "language": "python",
   "name": "python3"
  },
  "language_info": {
   "codemirror_mode": {
    "name": "ipython",
    "version": 3
   },
   "file_extension": ".py",
   "mimetype": "text/x-python",
   "name": "python",
   "nbconvert_exporter": "python",
   "pygments_lexer": "ipython3",
   "version": "3.9.13"
  }
 },
 "nbformat": 4,
 "nbformat_minor": 5
}
