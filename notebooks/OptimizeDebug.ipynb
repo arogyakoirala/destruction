{
 "cells": [
  {
   "cell_type": "code",
   "execution_count": 1,
   "id": "a447bbac",
   "metadata": {},
   "outputs": [
    {
     "name": "stderr",
     "output_type": "stream",
     "text": [
      "/Users/arogyak/miniforge3/envs/destruction/lib/python3.8/site-packages/geopandas/_compat.py:106: UserWarning: The Shapely GEOS version (3.9.1dev-CAPI-1.14.1) is incompatible with the GEOS version PyGEOS was compiled with (3.9.1-CAPI-1.14.2). Conversions between both will be slow.\n",
      "  warnings.warn(\n"
     ]
    }
   ],
   "source": [
    "import os\n",
    "import sys\n",
    "import time\n",
    "import gc\n",
    "\n",
    "from tensorflow.keras.utils import Sequence\n",
    "from tensorflow.keras.metrics import AUC\n",
    "\n",
    "module_path = os.path.abspath(os.path.join('..'))\n",
    "if module_path not in sys.path:\n",
    "    sys.path.append(module_path+\"/scripts\")\n",
    "\n",
    "from destruction_utilities import *"
   ]
  },
  {
   "cell_type": "code",
   "execution_count": 2,
   "id": "78d02cc4",
   "metadata": {},
   "outputs": [
    {
     "name": "stdout",
     "output_type": "stream",
     "text": [
      "Metal device set to: Apple M1\n"
     ]
    },
    {
     "name": "stderr",
     "output_type": "stream",
     "text": [
      "2022-11-13 23:49:49.205106: I tensorflow/core/common_runtime/pluggable_device/pluggable_device_factory.cc:305] Could not identify NUMA node of platform GPU ID 0, defaulting to 0. Your kernel may not have been built with NUMA support.\n",
      "2022-11-13 23:49:49.205438: I tensorflow/core/common_runtime/pluggable_device/pluggable_device_factory.cc:271] Created TensorFlow device (/job:localhost/replica:0/task:0/device:GPU:0 with 0 MB memory) -> physical PluggableDevice (device: 0, name: METAL, pci bus id: <undefined>)\n"
     ]
    }
   ],
   "source": [
    "CITY = 'aleppo'\n",
    "TILE_SIZE = (128,128)\n",
    "BATCH_SIZE = 32\n",
    "DATA_DIR = \"../../data\"\n",
    "\n",
    "auc = AUC(\n",
    "    num_thresholds=200,\n",
    "    curve='ROC',\n",
    "    name=\"auc\"\n",
    ")"
   ]
  },
  {
   "cell_type": "code",
   "execution_count": 3,
   "id": "a044efa1",
   "metadata": {},
   "outputs": [],
   "source": [
    "# CNNGenerator\n",
    "class CNNGenerator(Sequence):\n",
    "    def __init__(self, images, labels, batch_size=32):\n",
    "        self.images = images\n",
    "        self.labels = labels\n",
    "        self.batch_size = batch_size\n",
    "\n",
    "    def __len__(self):\n",
    "        return len(self.images)//self.batch_size\n",
    "    \n",
    "    def __getitem__(self, index):\n",
    "        return self.images\n",
    "        X = self.images[index*self.batch_size:(index+1)*self.batch_size]\n",
    "        y = self.labels[index*self.batch_size:(index+1)*self.batch_size]\n",
    "        \n",
    "#         return self.augment(X), y.flatten()\n",
    "    \n",
    "    def augment(self, X):\n",
    "        # Brightness\n",
    "        alpha = random.choice(np.linspace(0.85, 1.4))\n",
    "        X = X * alpha\n",
    "        \n",
    "        \n",
    "        \n",
    "        return X"
   ]
  },
  {
   "cell_type": "code",
   "execution_count": 4,
   "id": "3e8e3e97",
   "metadata": {},
   "outputs": [],
   "source": [
    "training_images = read_zarr(CITY, 'images_conv_train_balanced', path=DATA_DIR)\n",
    "training_labels = read_zarr(CITY, 'labels_conv_train_balanced', path=DATA_DIR)\n",
    "\n",
    "validation_images = read_zarr(CITY, 'images_conv_valid', path=DATA_DIR)\n",
    "validation_labels = read_zarr(CITY, 'labels_conv_valid', path=DATA_DIR)\n",
    "\n",
    "test_images = read_zarr(CITY, 'images_conv_test', path=DATA_DIR)\n",
    "test_labels = read_zarr(CITY, 'labels_conv_test', path=DATA_DIR)\n"
   ]
  },
  {
   "cell_type": "code",
   "execution_count": 5,
   "id": "de4a1ef3",
   "metadata": {},
   "outputs": [
    {
     "data": {
      "text/plain": [
       "<zarr.hierarchy.Group '/'>"
      ]
     },
     "execution_count": 5,
     "metadata": {},
     "output_type": "execute_result"
    }
   ],
   "source": [
    "CNNGenerator(training_images, training_labels, batch_size=32).__getitem__(2)"
   ]
  },
  {
   "cell_type": "code",
   "execution_count": 6,
   "id": "eac5fda1",
   "metadata": {},
   "outputs": [
    {
     "data": {
      "text/plain": [
       "<zarr.hierarchy.Group '/'>"
      ]
     },
     "execution_count": 6,
     "metadata": {},
     "output_type": "execute_result"
    }
   ],
   "source": [
    "training_images"
   ]
  },
  {
   "cell_type": "code",
   "execution_count": null,
   "id": "7009efd3",
   "metadata": {},
   "outputs": [],
   "source": []
  }
 ],
 "metadata": {
  "kernelspec": {
   "display_name": "Python 3 (ipykernel)",
   "language": "python",
   "name": "python3"
  },
  "language_info": {
   "codemirror_mode": {
    "name": "ipython",
    "version": 3
   },
   "file_extension": ".py",
   "mimetype": "text/x-python",
   "name": "python",
   "nbconvert_exporter": "python",
   "pygments_lexer": "ipython3",
   "version": "3.8.13"
  }
 },
 "nbformat": 4,
 "nbformat_minor": 5
}
